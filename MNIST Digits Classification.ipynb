{
 "cells": [
  {
   "cell_type": "markdown",
   "metadata": {},
   "source": [
    "# Problem Statement"
   ]
  },
  {
   "cell_type": "markdown",
   "metadata": {},
   "source": [
    "The objective of this study is to classify the handwritten digit which are categorized into 10 classes i.e 0-9"
   ]
  },
  {
   "cell_type": "markdown",
   "metadata": {},
   "source": [
    "### Import Libraries"
   ]
  },
  {
   "cell_type": "code",
   "execution_count": 138,
   "metadata": {},
   "outputs": [],
   "source": [
    "from PIL import Image\n",
    "import matplotlib.pyplot as plt\n",
    "import numpy as np\n",
    "import os\n",
    "import pandas as pd \n",
    "import seaborn as sns"
   ]
  },
  {
   "cell_type": "code",
   "execution_count": 139,
   "metadata": {},
   "outputs": [],
   "source": [
    "from sklearn.model_selection import train_test_split\n",
    "from sklearn.metrics import accuracy_score\n",
    "from sklearn.metrics import confusion_matrix\n",
    "from tensorflow.keras.models import Sequential\n",
    "from tensorflow.keras.layers import Dense, Dropout, Flatten\n",
    "from tensorflow.keras.layers import Conv2D\n",
    "from tensorflow.keras.optimizers import Adam\n",
    "from tensorflow.keras.layers import MaxPooling2D\n",
    "from tensorflow.keras.preprocessing.image import ImageDataGenerator"
   ]
  },
  {
   "cell_type": "markdown",
   "metadata": {},
   "source": [
    "### Read the csv file and basic data exploration"
   ]
  },
  {
   "cell_type": "code",
   "execution_count": 3,
   "metadata": {},
   "outputs": [],
   "source": [
    "df = pd.read_csv('./data/mnist_784.csv')"
   ]
  },
  {
   "cell_type": "code",
   "execution_count": 4,
   "metadata": {},
   "outputs": [
    {
     "data": {
      "text/plain": [
       "(70000, 785)"
      ]
     },
     "execution_count": 4,
     "metadata": {},
     "output_type": "execute_result"
    }
   ],
   "source": [
    "df.shape"
   ]
  },
  {
   "cell_type": "code",
   "execution_count": 5,
   "metadata": {},
   "outputs": [
    {
     "data": {
      "text/html": [
       "<div>\n",
       "<style scoped>\n",
       "    .dataframe tbody tr th:only-of-type {\n",
       "        vertical-align: middle;\n",
       "    }\n",
       "\n",
       "    .dataframe tbody tr th {\n",
       "        vertical-align: top;\n",
       "    }\n",
       "\n",
       "    .dataframe thead th {\n",
       "        text-align: right;\n",
       "    }\n",
       "</style>\n",
       "<table border=\"1\" class=\"dataframe\">\n",
       "  <thead>\n",
       "    <tr style=\"text-align: right;\">\n",
       "      <th></th>\n",
       "      <th>pixel1</th>\n",
       "      <th>pixel2</th>\n",
       "      <th>pixel3</th>\n",
       "      <th>pixel4</th>\n",
       "      <th>pixel5</th>\n",
       "      <th>pixel6</th>\n",
       "      <th>pixel7</th>\n",
       "      <th>pixel8</th>\n",
       "      <th>pixel9</th>\n",
       "      <th>pixel10</th>\n",
       "      <th>...</th>\n",
       "      <th>pixel776</th>\n",
       "      <th>pixel777</th>\n",
       "      <th>pixel778</th>\n",
       "      <th>pixel779</th>\n",
       "      <th>pixel780</th>\n",
       "      <th>pixel781</th>\n",
       "      <th>pixel782</th>\n",
       "      <th>pixel783</th>\n",
       "      <th>pixel784</th>\n",
       "      <th>class</th>\n",
       "    </tr>\n",
       "  </thead>\n",
       "  <tbody>\n",
       "    <tr>\n",
       "      <th>0</th>\n",
       "      <td>0</td>\n",
       "      <td>0</td>\n",
       "      <td>0</td>\n",
       "      <td>0</td>\n",
       "      <td>0</td>\n",
       "      <td>0</td>\n",
       "      <td>0</td>\n",
       "      <td>0</td>\n",
       "      <td>0</td>\n",
       "      <td>0</td>\n",
       "      <td>...</td>\n",
       "      <td>0</td>\n",
       "      <td>0</td>\n",
       "      <td>0</td>\n",
       "      <td>0</td>\n",
       "      <td>0</td>\n",
       "      <td>0</td>\n",
       "      <td>0</td>\n",
       "      <td>0</td>\n",
       "      <td>0</td>\n",
       "      <td>5</td>\n",
       "    </tr>\n",
       "    <tr>\n",
       "      <th>1</th>\n",
       "      <td>0</td>\n",
       "      <td>0</td>\n",
       "      <td>0</td>\n",
       "      <td>0</td>\n",
       "      <td>0</td>\n",
       "      <td>0</td>\n",
       "      <td>0</td>\n",
       "      <td>0</td>\n",
       "      <td>0</td>\n",
       "      <td>0</td>\n",
       "      <td>...</td>\n",
       "      <td>0</td>\n",
       "      <td>0</td>\n",
       "      <td>0</td>\n",
       "      <td>0</td>\n",
       "      <td>0</td>\n",
       "      <td>0</td>\n",
       "      <td>0</td>\n",
       "      <td>0</td>\n",
       "      <td>0</td>\n",
       "      <td>0</td>\n",
       "    </tr>\n",
       "    <tr>\n",
       "      <th>2</th>\n",
       "      <td>0</td>\n",
       "      <td>0</td>\n",
       "      <td>0</td>\n",
       "      <td>0</td>\n",
       "      <td>0</td>\n",
       "      <td>0</td>\n",
       "      <td>0</td>\n",
       "      <td>0</td>\n",
       "      <td>0</td>\n",
       "      <td>0</td>\n",
       "      <td>...</td>\n",
       "      <td>0</td>\n",
       "      <td>0</td>\n",
       "      <td>0</td>\n",
       "      <td>0</td>\n",
       "      <td>0</td>\n",
       "      <td>0</td>\n",
       "      <td>0</td>\n",
       "      <td>0</td>\n",
       "      <td>0</td>\n",
       "      <td>4</td>\n",
       "    </tr>\n",
       "    <tr>\n",
       "      <th>3</th>\n",
       "      <td>0</td>\n",
       "      <td>0</td>\n",
       "      <td>0</td>\n",
       "      <td>0</td>\n",
       "      <td>0</td>\n",
       "      <td>0</td>\n",
       "      <td>0</td>\n",
       "      <td>0</td>\n",
       "      <td>0</td>\n",
       "      <td>0</td>\n",
       "      <td>...</td>\n",
       "      <td>0</td>\n",
       "      <td>0</td>\n",
       "      <td>0</td>\n",
       "      <td>0</td>\n",
       "      <td>0</td>\n",
       "      <td>0</td>\n",
       "      <td>0</td>\n",
       "      <td>0</td>\n",
       "      <td>0</td>\n",
       "      <td>1</td>\n",
       "    </tr>\n",
       "    <tr>\n",
       "      <th>4</th>\n",
       "      <td>0</td>\n",
       "      <td>0</td>\n",
       "      <td>0</td>\n",
       "      <td>0</td>\n",
       "      <td>0</td>\n",
       "      <td>0</td>\n",
       "      <td>0</td>\n",
       "      <td>0</td>\n",
       "      <td>0</td>\n",
       "      <td>0</td>\n",
       "      <td>...</td>\n",
       "      <td>0</td>\n",
       "      <td>0</td>\n",
       "      <td>0</td>\n",
       "      <td>0</td>\n",
       "      <td>0</td>\n",
       "      <td>0</td>\n",
       "      <td>0</td>\n",
       "      <td>0</td>\n",
       "      <td>0</td>\n",
       "      <td>9</td>\n",
       "    </tr>\n",
       "  </tbody>\n",
       "</table>\n",
       "<p>5 rows × 785 columns</p>\n",
       "</div>"
      ],
      "text/plain": [
       "   pixel1  pixel2  pixel3  pixel4  pixel5  pixel6  pixel7  pixel8  pixel9  \\\n",
       "0       0       0       0       0       0       0       0       0       0   \n",
       "1       0       0       0       0       0       0       0       0       0   \n",
       "2       0       0       0       0       0       0       0       0       0   \n",
       "3       0       0       0       0       0       0       0       0       0   \n",
       "4       0       0       0       0       0       0       0       0       0   \n",
       "\n",
       "   pixel10  ...  pixel776  pixel777  pixel778  pixel779  pixel780  pixel781  \\\n",
       "0        0  ...         0         0         0         0         0         0   \n",
       "1        0  ...         0         0         0         0         0         0   \n",
       "2        0  ...         0         0         0         0         0         0   \n",
       "3        0  ...         0         0         0         0         0         0   \n",
       "4        0  ...         0         0         0         0         0         0   \n",
       "\n",
       "   pixel782  pixel783  pixel784  class  \n",
       "0         0         0         0      5  \n",
       "1         0         0         0      0  \n",
       "2         0         0         0      4  \n",
       "3         0         0         0      1  \n",
       "4         0         0         0      9  \n",
       "\n",
       "[5 rows x 785 columns]"
      ]
     },
     "execution_count": 5,
     "metadata": {},
     "output_type": "execute_result"
    }
   ],
   "source": [
    "df.head()"
   ]
  },
  {
   "cell_type": "code",
   "execution_count": 10,
   "metadata": {},
   "outputs": [
    {
     "data": {
      "text/plain": [
       "array([5, 0, 4, 1, 9, 2, 3, 6, 7, 8], dtype=int64)"
      ]
     },
     "execution_count": 10,
     "metadata": {},
     "output_type": "execute_result"
    }
   ],
   "source": [
    "df['class'].unique()"
   ]
  },
  {
   "cell_type": "code",
   "execution_count": 17,
   "metadata": {},
   "outputs": [
    {
     "name": "stdout",
     "output_type": "stream",
     "text": [
      "Series([], dtype: int64)\n"
     ]
    }
   ],
   "source": [
    "missing_val_count_by_column = (df.isnull().sum())\n",
    "print(missing_val_count_by_column[missing_val_count_by_column > 0])"
   ]
  },
  {
   "cell_type": "markdown",
   "metadata": {},
   "source": [
    "### Testing the data"
   ]
  },
  {
   "cell_type": "code",
   "execution_count": 89,
   "metadata": {},
   "outputs": [
    {
     "data": {
      "text/plain": [
       "(7000, 785)"
      ]
     },
     "execution_count": 89,
     "metadata": {},
     "output_type": "execute_result"
    }
   ],
   "source": [
    "train, test = train_test_split(df, test_size=0.1)\n",
    "test.shape"
   ]
  },
  {
   "cell_type": "code",
   "execution_count": 90,
   "metadata": {},
   "outputs": [],
   "source": [
    "model = Sequential()\n",
    "\n",
    "model.add(Conv2D(32, kernel_size=(3, 3), activation='relu', input_shape=(28,28,1)))\n",
    "model.add(Conv2D(64, kernel_size=(3, 3), activation='relu'))\n",
    "model.add(MaxPooling2D(pool_size=(2, 2)))\n",
    "model.add(Dropout(0.25))\n",
    "\n",
    "model.add(Conv2D(128, kernel_size=(3, 3), activation='relu'))\n",
    "model.add(MaxPooling2D(pool_size=(2, 2)))\n",
    "model.add(Conv2D(128, kernel_size=(3, 3), activation='relu'))\n",
    "model.add(MaxPooling2D(pool_size=(2, 2)))\n",
    "model.add(Dropout(0.25))\n",
    "\n",
    "model.add(Flatten())\n",
    "model.add(Dense(1024, activation='relu'))\n",
    "model.add(Dropout(0.5))\n",
    "model.add(Dense(10, activation='softmax'))"
   ]
  },
  {
   "cell_type": "code",
   "execution_count": 91,
   "metadata": {},
   "outputs": [],
   "source": [
    "num_train = len(train)\n",
    "num_val = len(validation)\n",
    "batch_size = 32\n",
    "num_epoch = 50"
   ]
  },
  {
   "cell_type": "code",
   "execution_count": 79,
   "metadata": {},
   "outputs": [],
   "source": [
    "xtrain=np.asarray(train.iloc[:,:-1])\n",
    "\n",
    "xtrain=xtrain.reshape(num_train,28, 28,1)\n",
    "\n",
    "ytrain=np.asarray(train.iloc[:,-1:])"
   ]
  },
  {
   "cell_type": "code",
   "execution_count": 119,
   "metadata": {},
   "outputs": [
    {
     "name": "stdout",
     "output_type": "stream",
     "text": [
      "Train on 49840 samples, validate on 6160 samples\n",
      "Epoch 1/100\n",
      "49840/49840 [==============================] - 118s 2ms/sample - loss: 0.1731 - accuracy: 0.9478 - val_loss: 0.0772 - val_accuracy: 0.9756\n",
      "Epoch 2/100\n",
      "49840/49840 [==============================] - 99s 2ms/sample - loss: 0.1196 - accuracy: 0.9645 - val_loss: 0.0575 - val_accuracy: 0.9828\n",
      "Epoch 3/100\n",
      "49840/49840 [==============================] - 93s 2ms/sample - loss: 0.0919 - accuracy: 0.9728 - val_loss: 0.0546 - val_accuracy: 0.9846\n",
      "Epoch 4/100\n",
      "49840/49840 [==============================] - 95s 2ms/sample - loss: 0.0760 - accuracy: 0.9768 - val_loss: 0.0484 - val_accuracy: 0.9859\n",
      "Epoch 5/100\n",
      "49840/49840 [==============================] - 98s 2ms/sample - loss: 0.0625 - accuracy: 0.9816 - val_loss: 0.0465 - val_accuracy: 0.9862\n",
      "Epoch 6/100\n",
      "49840/49840 [==============================] - 96s 2ms/sample - loss: 0.0557 - accuracy: 0.9835 - val_loss: 0.0360 - val_accuracy: 0.9890\n",
      "Epoch 7/100\n",
      "49840/49840 [==============================] - 97s 2ms/sample - loss: 0.0489 - accuracy: 0.9855 - val_loss: 0.0406 - val_accuracy: 0.9872\n",
      "Epoch 8/100\n",
      "49840/49840 [==============================] - 97s 2ms/sample - loss: 0.0430 - accuracy: 0.9870 - val_loss: 0.0343 - val_accuracy: 0.9894\n",
      "Epoch 9/100\n",
      "49840/49840 [==============================] - 97s 2ms/sample - loss: 0.0383 - accuracy: 0.9880 - val_loss: 0.0327 - val_accuracy: 0.9911\n",
      "Epoch 10/100\n",
      "49840/49840 [==============================] - 97s 2ms/sample - loss: 0.0335 - accuracy: 0.9896 - val_loss: 0.0333 - val_accuracy: 0.9894\n",
      "Epoch 11/100\n",
      "49840/49840 [==============================] - 97s 2ms/sample - loss: 0.0328 - accuracy: 0.9898 - val_loss: 0.0341 - val_accuracy: 0.9903\n",
      "Epoch 12/100\n",
      "49840/49840 [==============================] - 98s 2ms/sample - loss: 0.0282 - accuracy: 0.9916 - val_loss: 0.0287 - val_accuracy: 0.9922\n",
      "Epoch 13/100\n",
      "49840/49840 [==============================] - 98s 2ms/sample - loss: 0.0255 - accuracy: 0.9920 - val_loss: 0.0377 - val_accuracy: 0.9901\n",
      "Epoch 14/100\n",
      "49840/49840 [==============================] - 104s 2ms/sample - loss: 0.0244 - accuracy: 0.9925 - val_loss: 0.0317 - val_accuracy: 0.9909\n",
      "Epoch 15/100\n",
      "49840/49840 [==============================] - 143s 3ms/sample - loss: 0.0226 - accuracy: 0.9927 - val_loss: 0.0337 - val_accuracy: 0.9914\n",
      "Epoch 16/100\n",
      "49840/49840 [==============================] - 107s 2ms/sample - loss: 0.0213 - accuracy: 0.9932 - val_loss: 0.0282 - val_accuracy: 0.9914\n",
      "Epoch 17/100\n",
      "49840/49840 [==============================] - 108s 2ms/sample - loss: 0.0190 - accuracy: 0.9941 - val_loss: 0.0265 - val_accuracy: 0.9920\n",
      "Epoch 18/100\n",
      "49840/49840 [==============================] - 106s 2ms/sample - loss: 0.0192 - accuracy: 0.9939 - val_loss: 0.0258 - val_accuracy: 0.9922\n",
      "Epoch 19/100\n",
      "49840/49840 [==============================] - 107s 2ms/sample - loss: 0.0190 - accuracy: 0.9939 - val_loss: 0.0320 - val_accuracy: 0.9912\n",
      "Epoch 20/100\n",
      "49840/49840 [==============================] - 106s 2ms/sample - loss: 0.0164 - accuracy: 0.9947 - val_loss: 0.0324 - val_accuracy: 0.9907\n",
      "Epoch 21/100\n",
      "49840/49840 [==============================] - 106s 2ms/sample - loss: 0.0175 - accuracy: 0.9943 - val_loss: 0.0285 - val_accuracy: 0.9927\n",
      "Epoch 22/100\n",
      "49840/49840 [==============================] - 107s 2ms/sample - loss: 0.0152 - accuracy: 0.9954 - val_loss: 0.0266 - val_accuracy: 0.9924\n",
      "Epoch 23/100\n",
      "49840/49840 [==============================] - 107s 2ms/sample - loss: 0.0136 - accuracy: 0.9958 - val_loss: 0.0263 - val_accuracy: 0.9933\n",
      "Epoch 24/100\n",
      "49840/49840 [==============================] - 107s 2ms/sample - loss: 0.0138 - accuracy: 0.9956 - val_loss: 0.0275 - val_accuracy: 0.9924\n",
      "Epoch 25/100\n",
      "49840/49840 [==============================] - 107s 2ms/sample - loss: 0.0128 - accuracy: 0.9958 - val_loss: 0.0335 - val_accuracy: 0.9917\n",
      "Epoch 26/100\n",
      "49840/49840 [==============================] - 107s 2ms/sample - loss: 0.0109 - accuracy: 0.9965 - val_loss: 0.0314 - val_accuracy: 0.9929\n",
      "Epoch 27/100\n",
      "49840/49840 [==============================] - 107s 2ms/sample - loss: 0.0120 - accuracy: 0.9962 - val_loss: 0.0266 - val_accuracy: 0.9932\n",
      "Epoch 28/100\n",
      "49840/49840 [==============================] - 107s 2ms/sample - loss: 0.0123 - accuracy: 0.9963 - val_loss: 0.0267 - val_accuracy: 0.9938\n",
      "Epoch 29/100\n",
      "49840/49840 [==============================] - 107s 2ms/sample - loss: 0.0109 - accuracy: 0.9967 - val_loss: 0.0310 - val_accuracy: 0.9930\n",
      "Epoch 30/100\n",
      "49840/49840 [==============================] - 107s 2ms/sample - loss: 0.0105 - accuracy: 0.9968 - val_loss: 0.0284 - val_accuracy: 0.9937\n",
      "Epoch 31/100\n",
      "49840/49840 [==============================] - 108s 2ms/sample - loss: 0.0108 - accuracy: 0.9968 - val_loss: 0.0280 - val_accuracy: 0.9938\n",
      "Epoch 32/100\n",
      "49840/49840 [==============================] - 108s 2ms/sample - loss: 0.0104 - accuracy: 0.9967 - val_loss: 0.0278 - val_accuracy: 0.9940\n",
      "Epoch 33/100\n",
      "49840/49840 [==============================] - 108s 2ms/sample - loss: 0.0091 - accuracy: 0.9970 - val_loss: 0.0280 - val_accuracy: 0.9917\n",
      "Epoch 34/100\n",
      "49840/49840 [==============================] - 109s 2ms/sample - loss: 0.0100 - accuracy: 0.9969 - val_loss: 0.0279 - val_accuracy: 0.9940\n",
      "Epoch 35/100\n",
      "49840/49840 [==============================] - 107s 2ms/sample - loss: 0.0083 - accuracy: 0.9974 - val_loss: 0.0348 - val_accuracy: 0.9937\n",
      "Epoch 36/100\n",
      "49840/49840 [==============================] - 105s 2ms/sample - loss: 0.0103 - accuracy: 0.9967 - val_loss: 0.0262 - val_accuracy: 0.9935\n",
      "Epoch 37/100\n",
      "49840/49840 [==============================] - 105s 2ms/sample - loss: 0.0081 - accuracy: 0.9974 - val_loss: 0.0365 - val_accuracy: 0.9912\n",
      "Epoch 38/100\n",
      "49840/49840 [==============================] - 105s 2ms/sample - loss: 0.0073 - accuracy: 0.9978 - val_loss: 0.0402 - val_accuracy: 0.9922\n",
      "Epoch 39/100\n",
      "49840/49840 [==============================] - 105s 2ms/sample - loss: 0.0096 - accuracy: 0.9971 - val_loss: 0.0351 - val_accuracy: 0.9933\n",
      "Epoch 40/100\n",
      "49840/49840 [==============================] - 105s 2ms/sample - loss: 0.0084 - accuracy: 0.9972 - val_loss: 0.0313 - val_accuracy: 0.9937\n",
      "Epoch 41/100\n",
      "49840/49840 [==============================] - 105s 2ms/sample - loss: 0.0084 - accuracy: 0.9975 - val_loss: 0.0305 - val_accuracy: 0.9933\n",
      "Epoch 42/100\n",
      "49840/49840 [==============================] - 106s 2ms/sample - loss: 0.0067 - accuracy: 0.9980 - val_loss: 0.0295 - val_accuracy: 0.9932\n",
      "Epoch 43/100\n",
      "49840/49840 [==============================] - 106s 2ms/sample - loss: 0.0065 - accuracy: 0.9980 - val_loss: 0.0295 - val_accuracy: 0.9935\n",
      "Epoch 44/100\n",
      "49840/49840 [==============================] - 106s 2ms/sample - loss: 0.0070 - accuracy: 0.9979 - val_loss: 0.0306 - val_accuracy: 0.9933\n",
      "Epoch 45/100\n",
      "49840/49840 [==============================] - 106s 2ms/sample - loss: 0.0081 - accuracy: 0.9976 - val_loss: 0.0295 - val_accuracy: 0.9930\n",
      "Epoch 46/100\n",
      "49840/49840 [==============================] - 106s 2ms/sample - loss: 0.0062 - accuracy: 0.9981 - val_loss: 0.0341 - val_accuracy: 0.9929\n",
      "Epoch 47/100\n",
      "49840/49840 [==============================] - 107s 2ms/sample - loss: 0.0064 - accuracy: 0.9980 - val_loss: 0.0332 - val_accuracy: 0.9942\n",
      "Epoch 48/100\n",
      "49840/49840 [==============================] - 119s 2ms/sample - loss: 0.0061 - accuracy: 0.9981 - val_loss: 0.0338 - val_accuracy: 0.9940\n",
      "Epoch 49/100\n",
      "49840/49840 [==============================] - 112s 2ms/sample - loss: 0.0072 - accuracy: 0.9976 - val_loss: 0.0321 - val_accuracy: 0.9930\n",
      "Epoch 50/100\n",
      "49840/49840 [==============================] - 109s 2ms/sample - loss: 0.0061 - accuracy: 0.9982 - val_loss: 0.0311 - val_accuracy: 0.9935\n",
      "Epoch 51/100\n",
      "49840/49840 [==============================] - 109s 2ms/sample - loss: 0.0051 - accuracy: 0.9983 - val_loss: 0.0333 - val_accuracy: 0.9925\n",
      "Epoch 52/100\n",
      "49840/49840 [==============================] - 107s 2ms/sample - loss: 0.0070 - accuracy: 0.9980 - val_loss: 0.0409 - val_accuracy: 0.9925\n",
      "Epoch 53/100\n",
      "49840/49840 [==============================] - 107s 2ms/sample - loss: 0.0074 - accuracy: 0.9978 - val_loss: 0.0370 - val_accuracy: 0.9920\n",
      "Epoch 54/100\n",
      "49840/49840 [==============================] - 107s 2ms/sample - loss: 0.0070 - accuracy: 0.9980 - val_loss: 0.0337 - val_accuracy: 0.9930\n"
     ]
    },
    {
     "name": "stdout",
     "output_type": "stream",
     "text": [
      "Epoch 55/100\n",
      "49840/49840 [==============================] - 105s 2ms/sample - loss: 0.0068 - accuracy: 0.9978 - val_loss: 0.0300 - val_accuracy: 0.9938\n",
      "Epoch 56/100\n",
      "49840/49840 [==============================] - 104s 2ms/sample - loss: 0.0066 - accuracy: 0.9981 - val_loss: 0.0323 - val_accuracy: 0.9930\n",
      "Epoch 57/100\n",
      "49840/49840 [==============================] - 105s 2ms/sample - loss: 0.0053 - accuracy: 0.9983 - val_loss: 0.0319 - val_accuracy: 0.9930\n",
      "Epoch 58/100\n",
      "49840/49840 [==============================] - 104s 2ms/sample - loss: 0.0061 - accuracy: 0.9982 - val_loss: 0.0321 - val_accuracy: 0.9940\n",
      "Epoch 59/100\n",
      "49840/49840 [==============================] - 105s 2ms/sample - loss: 0.0060 - accuracy: 0.9981 - val_loss: 0.0238 - val_accuracy: 0.9945\n",
      "Epoch 60/100\n",
      "49840/49840 [==============================] - 105s 2ms/sample - loss: 0.0061 - accuracy: 0.9983 - val_loss: 0.0282 - val_accuracy: 0.9943\n",
      "Epoch 61/100\n",
      "49840/49840 [==============================] - 105s 2ms/sample - loss: 0.0053 - accuracy: 0.9984 - val_loss: 0.0254 - val_accuracy: 0.9943\n",
      "Epoch 62/100\n",
      "49840/49840 [==============================] - 105s 2ms/sample - loss: 0.0053 - accuracy: 0.9983 - val_loss: 0.0289 - val_accuracy: 0.9932\n",
      "Epoch 63/100\n",
      "49840/49840 [==============================] - 105s 2ms/sample - loss: 0.0052 - accuracy: 0.9985 - val_loss: 0.0326 - val_accuracy: 0.9942\n",
      "Epoch 64/100\n",
      "49840/49840 [==============================] - 106s 2ms/sample - loss: 0.0057 - accuracy: 0.9983 - val_loss: 0.0270 - val_accuracy: 0.9938\n",
      "Epoch 65/100\n",
      "49840/49840 [==============================] - 106s 2ms/sample - loss: 0.0048 - accuracy: 0.9983 - val_loss: 0.0300 - val_accuracy: 0.9937\n",
      "Epoch 66/100\n",
      "49840/49840 [==============================] - 105s 2ms/sample - loss: 0.0061 - accuracy: 0.9981 - val_loss: 0.0356 - val_accuracy: 0.9942\n",
      "Epoch 67/100\n",
      "49840/49840 [==============================] - 105s 2ms/sample - loss: 0.0046 - accuracy: 0.9984 - val_loss: 0.0351 - val_accuracy: 0.9935\n",
      "Epoch 68/100\n",
      "49840/49840 [==============================] - 105s 2ms/sample - loss: 0.0051 - accuracy: 0.9983 - val_loss: 0.0351 - val_accuracy: 0.9930\n",
      "Epoch 69/100\n",
      "49840/49840 [==============================] - 105s 2ms/sample - loss: 0.0048 - accuracy: 0.9985 - val_loss: 0.0303 - val_accuracy: 0.9930\n",
      "Epoch 70/100\n",
      "49840/49840 [==============================] - 105s 2ms/sample - loss: 0.0051 - accuracy: 0.9986 - val_loss: 0.0316 - val_accuracy: 0.9945\n",
      "Epoch 71/100\n",
      "49840/49840 [==============================] - 105s 2ms/sample - loss: 0.0046 - accuracy: 0.9987 - val_loss: 0.0314 - val_accuracy: 0.9942\n",
      "Epoch 72/100\n",
      "49840/49840 [==============================] - 105s 2ms/sample - loss: 0.0052 - accuracy: 0.9983 - val_loss: 0.0369 - val_accuracy: 0.9929\n",
      "Epoch 73/100\n",
      "49840/49840 [==============================] - 105s 2ms/sample - loss: 0.0048 - accuracy: 0.9985 - val_loss: 0.0339 - val_accuracy: 0.9929\n",
      "Epoch 74/100\n",
      "49840/49840 [==============================] - 105s 2ms/sample - loss: 0.0051 - accuracy: 0.9984 - val_loss: 0.0303 - val_accuracy: 0.9940\n",
      "Epoch 75/100\n",
      "49840/49840 [==============================] - 105s 2ms/sample - loss: 0.0041 - accuracy: 0.9986 - val_loss: 0.0332 - val_accuracy: 0.9935\n",
      "Epoch 76/100\n",
      "49840/49840 [==============================] - 106s 2ms/sample - loss: 0.0045 - accuracy: 0.9987 - val_loss: 0.0362 - val_accuracy: 0.9930\n",
      "Epoch 77/100\n",
      "49840/49840 [==============================] - 105s 2ms/sample - loss: 0.0037 - accuracy: 0.9988 - val_loss: 0.0354 - val_accuracy: 0.9930\n",
      "Epoch 78/100\n",
      "49840/49840 [==============================] - 106s 2ms/sample - loss: 0.0047 - accuracy: 0.9986 - val_loss: 0.0358 - val_accuracy: 0.9922\n",
      "Epoch 79/100\n",
      "49840/49840 [==============================] - 105s 2ms/sample - loss: 0.0048 - accuracy: 0.9987 - val_loss: 0.0322 - val_accuracy: 0.9933\n",
      "Epoch 80/100\n",
      "49840/49840 [==============================] - 106s 2ms/sample - loss: 0.0042 - accuracy: 0.9988 - val_loss: 0.0418 - val_accuracy: 0.9927\n",
      "Epoch 81/100\n",
      "49840/49840 [==============================] - 105s 2ms/sample - loss: 0.0045 - accuracy: 0.9988 - val_loss: 0.0379 - val_accuracy: 0.9935\n",
      "Epoch 82/100\n",
      "49840/49840 [==============================] - 105s 2ms/sample - loss: 0.0039 - accuracy: 0.9987 - val_loss: 0.0318 - val_accuracy: 0.9950\n",
      "Epoch 83/100\n",
      "49840/49840 [==============================] - 105s 2ms/sample - loss: 0.0047 - accuracy: 0.9987 - val_loss: 0.0386 - val_accuracy: 0.9929\n",
      "Epoch 84/100\n",
      "49840/49840 [==============================] - 105s 2ms/sample - loss: 0.0050 - accuracy: 0.9987 - val_loss: 0.0330 - val_accuracy: 0.9942\n",
      "Epoch 85/100\n",
      "49840/49840 [==============================] - 106s 2ms/sample - loss: 0.0043 - accuracy: 0.9987 - val_loss: 0.0367 - val_accuracy: 0.9938\n",
      "Epoch 86/100\n",
      "49840/49840 [==============================] - 106s 2ms/sample - loss: 0.0037 - accuracy: 0.9990 - val_loss: 0.0423 - val_accuracy: 0.9929\n",
      "Epoch 87/100\n",
      "49840/49840 [==============================] - 105s 2ms/sample - loss: 0.0042 - accuracy: 0.9987 - val_loss: 0.0328 - val_accuracy: 0.9940\n",
      "Epoch 88/100\n",
      "49840/49840 [==============================] - 106s 2ms/sample - loss: 0.0039 - accuracy: 0.9989 - val_loss: 0.0380 - val_accuracy: 0.9932\n",
      "Epoch 89/100\n",
      "49840/49840 [==============================] - 106s 2ms/sample - loss: 0.0041 - accuracy: 0.9989 - val_loss: 0.0268 - val_accuracy: 0.9946\n",
      "Epoch 90/100\n",
      "49840/49840 [==============================] - 105s 2ms/sample - loss: 0.0039 - accuracy: 0.9989 - val_loss: 0.0342 - val_accuracy: 0.9933\n",
      "Epoch 91/100\n",
      "49840/49840 [==============================] - 106s 2ms/sample - loss: 0.0037 - accuracy: 0.9990 - val_loss: 0.0358 - val_accuracy: 0.9938\n",
      "Epoch 92/100\n",
      "49840/49840 [==============================] - 106s 2ms/sample - loss: 0.0030 - accuracy: 0.9991 - val_loss: 0.0400 - val_accuracy: 0.9937\n",
      "Epoch 93/100\n",
      "49840/49840 [==============================] - 106s 2ms/sample - loss: 0.0058 - accuracy: 0.9984 - val_loss: 0.0355 - val_accuracy: 0.9932\n",
      "Epoch 94/100\n",
      "49840/49840 [==============================] - 106s 2ms/sample - loss: 0.0037 - accuracy: 0.9989 - val_loss: 0.0388 - val_accuracy: 0.9932\n",
      "Epoch 95/100\n",
      "49840/49840 [==============================] - 106s 2ms/sample - loss: 0.0032 - accuracy: 0.9990 - val_loss: 0.0387 - val_accuracy: 0.9933\n",
      "Epoch 96/100\n",
      "49840/49840 [==============================] - 106s 2ms/sample - loss: 0.0045 - accuracy: 0.9987 - val_loss: 0.0371 - val_accuracy: 0.9935\n",
      "Epoch 97/100\n",
      "49840/49840 [==============================] - 106s 2ms/sample - loss: 0.0042 - accuracy: 0.9988 - val_loss: 0.0353 - val_accuracy: 0.9943\n",
      "Epoch 98/100\n",
      "49840/49840 [==============================] - 106s 2ms/sample - loss: 0.0041 - accuracy: 0.9988 - val_loss: 0.0412 - val_accuracy: 0.9932\n",
      "Epoch 99/100\n",
      "49840/49840 [==============================] - 106s 2ms/sample - loss: 0.0041 - accuracy: 0.9988 - val_loss: 0.0371 - val_accuracy: 0.9935\n",
      "Epoch 100/100\n",
      "49840/49840 [==============================] - 106s 2ms/sample - loss: 0.0037 - accuracy: 0.9990 - val_loss: 0.0319 - val_accuracy: 0.9937\n"
     ]
    }
   ],
   "source": [
    "model.compile(loss='sparse_categorical_crossentropy',optimizer=Adam(lr=0.0001, decay=1e-6),metrics=['accuracy'])\n",
    "\n",
    "model_info = model.fit(xtrain, ytrain, batch_size = 32, epochs = 100,  validation_split=0.11, shuffle=True,)\n",
    "model.save_weights('./model.h5')"
   ]
  },
  {
   "cell_type": "markdown",
   "metadata": {},
   "source": [
    "### Plottinng the validation Data"
   ]
  },
  {
   "cell_type": "code",
   "execution_count": 137,
   "metadata": {},
   "outputs": [
    {
     "name": "stderr",
     "output_type": "stream",
     "text": [
      "C:\\Users\\SHIVAM\\AppData\\Roaming\\Python\\Python37\\site-packages\\ipykernel_launcher.py:8: MatplotlibDeprecationWarning: Passing the minor parameter of set_xticks() positionally is deprecated since Matplotlib 3.2; the parameter will become keyword-only two minor releases later.\n",
      "  \n",
      "C:\\Users\\SHIVAM\\AppData\\Roaming\\Python\\Python37\\site-packages\\ipykernel_launcher.py:17: MatplotlibDeprecationWarning: Passing the minor parameter of set_xticks() positionally is deprecated since Matplotlib 3.2; the parameter will become keyword-only two minor releases later.\n"
     ]
    },
    {
     "data": {
      "image/png": "[encoded data removed]",
      "text/plain": [
       "<Figure size 1080x360 with 2 Axes>"
      ]
     },
     "metadata": {
      "needs_background": "light"
     },
     "output_type": "display_data"
    }
   ],
   "source": [
    "fig, axs = plt.subplots(1,2,figsize=(15,5))\n",
    "\n",
    "axs[0].plot(range(1,len(model_info.history['accuracy'])+1),model_info.history['accuracy'])\n",
    "axs[0].plot(range(1,len(model_info.history['val_accuracy'])+1),model_info.history['val_accuracy'])\n",
    "axs[0].set_title('Model Accuracy')\n",
    "axs[0].set_ylabel('Accuracy')\n",
    "axs[0].set_xlabel('Epoch')\n",
    "axs[0].set_xticks(np.arange(1,len(model_info.history['accuracy'])+1),len(model_info.history['accuracy'])/10)\n",
    "axs[0].legend(['train', 'val'], loc='best')\n",
    "\n",
    "    \n",
    "axs[1].plot(range(1,len(model_info.history['loss'])+1),model_info.history['loss'])\n",
    "axs[1].plot(range(1,len(model_info.history['val_loss'])+1),model_info.history['val_loss'])\n",
    "axs[1].set_title('Model Loss')\n",
    "axs[1].set_ylabel('Loss')\n",
    "axs[1].set_xlabel('Epoch')\n",
    "axs[1].set_xticks(np.arange(1,len(model_info.history['loss'])+1),len(model_info.history['loss'])/10)\n",
    "axs[1].legend(['train', 'val'], loc='best')\n",
    "    \n",
    "fig.savefig('./plot.png')\n",
    "plt.show();"
   ]
  },
  {
   "cell_type": "markdown",
   "metadata": {},
   "source": [
    "### Predicting the test Data"
   ]
  },
  {
   "cell_type": "code",
   "execution_count": 121,
   "metadata": {},
   "outputs": [
    {
     "data": {
      "text/plain": [
       "7000"
      ]
     },
     "execution_count": 121,
     "metadata": {},
     "output_type": "execute_result"
    }
   ],
   "source": [
    "xtest=np.asarray(test.iloc[:,:-1])\n",
    "num_test= len(test)\n",
    "xtest=xtest.reshape(num_test,28, 28,1)\n",
    "\n",
    "ytest=np.asarray(test.iloc[:,-1:])"
   ]
  },
  {
   "cell_type": "code",
   "execution_count": 122,
   "metadata": {},
   "outputs": [],
   "source": [
    "model.load_weights('./model.h5')\n",
    "\n",
    "\n",
    "predict = model.predict(xtest)\n",
    "\n",
    "\n",
    "print(predict.shape);"
   ]
  },
  {
   "cell_type": "code",
   "execution_count": 124,
   "metadata": {},
   "outputs": [],
   "source": [
    "prediction=[]\n",
    "for i in range(len(predict)):\n",
    "    prediction.append(int(np.argmax(predict[i])));  "
   ]
  },
  {
   "cell_type": "markdown",
   "metadata": {},
   "source": [
    "### Plotting Confusion Matrix and Accuracy"
   ]
  },
  {
   "cell_type": "code",
   "execution_count": 134,
   "metadata": {},
   "outputs": [
    {
     "name": "stdout",
     "output_type": "stream",
     "text": [
      "     0    1    2    3    4    5    6    7    8    9\n",
      "0  710    0    0    0    0    0    0    0    0    0\n",
      "1    0  798    0    0    2    0    0    2    0    0\n",
      "2    0    0  687    0    1    0    0    0    0    0\n",
      "3    0    0    2  706    0    2    0    0    1    0\n",
      "4    0    0    0    0  680    0    0    1    0    0\n",
      "5    0    0    0    1    0  618    1    0    0    0\n",
      "6    0    0    0    0    0    0  675    0    0    0\n",
      "7    0    0    1    0    0    0    0  738    0    1\n",
      "8    1    0    0    0    0    0    0    0  683    0\n",
      "9    1    0    0    0    0    0    0    0    0  688\n"
     ]
    }
   ],
   "source": [
    "unique_label = np.unique([prediction])\n",
    "cm = pd.DataFrame(\n",
    "    confusion_matrix(ytest, prediction, labels=unique_label), \n",
    "    index=['{:}'.format(x) for x in unique_label], \n",
    "    columns=['{:}'.format(x) for x in unique_label]\n",
    ")\n",
    "print(cm)"
   ]
  },
  {
   "cell_type": "code",
   "execution_count": 135,
   "metadata": {},
   "outputs": [
    {
     "data": {
      "image/png": "[encoded data removed]",
      "text/plain": [
       "<Figure size 432x288 with 2 Axes>"
      ]
     },
     "metadata": {
      "needs_background": "light"
     },
     "output_type": "display_data"
    }
   ],
   "source": [
    "ax= plt.subplot()\n",
    "sns.heatmap(cm, annot=True, ax = ax, fmt='g'); #annot=True to annotate cells\n",
    "\n",
    "# labels, title and ticks\n",
    "ax.set_xlabel('Predicted Moods');ax.set_ylabel('True Moods'); \n",
    "ax.set_title('Confusion Matrix of with accuracy of %s' %\n",
    "                 (str(round(accuracy_score(prediction, ytest),2))))\n",
    "ax.xaxis.set_ticklabels(['{:}'.format(x) for x in unique_label]); ax.yaxis.set_ticklabels(['{:}'.format(x) for x in unique_label]);\n",
    "plt.savefig('./confusion-matrix.png')"
   ]
  },
  {
   "cell_type": "code",
   "execution_count": 136,
   "metadata": {},
   "outputs": [
    {
     "name": "stdout",
     "output_type": "stream",
     "text": [
      "0.9975714285714286\n"
     ]
    }
   ],
   "source": [
    "print(accuracy_score(prediction,ytest))"
   ]
  },
  {
   "cell_type": "markdown",
   "metadata": {},
   "source": [
    "# THE  END"
   ]
  }
 ],
 "metadata": {
  "kernelspec": {
   "display_name": "Python 3",
   "language": "python",
   "name": "python3"
  },
  "language_info": {
   "codemirror_mode": {
    "name": "ipython",
    "version": 3
   },
   "file_extension": ".py",
   "mimetype": "text/x-python",
   "name": "python",
   "nbconvert_exporter": "python",
   "pygments_lexer": "ipython3",
   "version": "3.7.3"
  }
 },
 "nbformat": 4,
 "nbformat_minor": 4
}
